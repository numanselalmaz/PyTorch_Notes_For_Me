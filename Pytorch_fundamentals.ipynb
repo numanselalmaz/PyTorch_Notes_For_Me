{
  "nbformat": 4,
  "nbformat_minor": 0,
  "metadata": {
    "colab": {
      "provenance": [],
      "gpuType": "T4",
      "authorship_tag": "ABX9TyMSJOMbR7g9DXtW325mg6KG",
      "include_colab_link": true
    },
    "kernelspec": {
      "name": "python3",
      "display_name": "Python 3"
    },
    "language_info": {
      "name": "python"
    },
    "accelerator": "GPU"
  },
  "cells": [
    {
      "cell_type": "markdown",
      "metadata": {
        "id": "view-in-github",
        "colab_type": "text"
      },
      "source": [
        "<a href=\"https://colab.research.google.com/github/numanselalmaz/PyTorch_Notes_For_Me/blob/main/Pytorch_fundamentals.ipynb\" target=\"_parent\"><img src=\"https://colab.research.google.com/assets/colab-badge.svg\" alt=\"Open In Colab\"/></a>"
      ]
    },
    {
      "cell_type": "code",
      "execution_count": null,
      "metadata": {
        "colab": {
          "base_uri": "https://localhost:8080/"
        },
        "id": "WSptdkdOfh93",
        "outputId": "a6d51a60-0c5e-450f-a53a-7068afc79358"
      },
      "outputs": [
        {
          "output_type": "stream",
          "name": "stdout",
          "text": [
            "2.3.0+cu121\n"
          ]
        }
      ],
      "source": [
        "import torch\n",
        "import pandas as pd\n",
        "import numpy as np\n",
        "import matplotlib.pyplot as plt\n",
        "print(torch.__version__)"
      ]
    },
    {
      "cell_type": "code",
      "source": [
        "# Introduction to Tensors\n",
        "\n",
        "# -> scalar\n",
        "scalar = torch.tensor(7)\n",
        "scalar"
      ],
      "metadata": {
        "colab": {
          "base_uri": "https://localhost:8080/"
        },
        "id": "BuOEaVPzgLXK",
        "outputId": "ec68d72c-c27f-4089-a374-31a2a547275b"
      },
      "execution_count": null,
      "outputs": [
        {
          "output_type": "execute_result",
          "data": {
            "text/plain": [
              "tensor(7)"
            ]
          },
          "metadata": {},
          "execution_count": 29
        }
      ]
    },
    {
      "cell_type": "code",
      "source": [
        "print(scalar.ndim)\n",
        "# Get tensor back as Python int\n",
        "print(scalar.item())"
      ],
      "metadata": {
        "colab": {
          "base_uri": "https://localhost:8080/"
        },
        "id": "MHlTvmg0g34J",
        "outputId": "16d92f58-db90-4a38-ab00-0c2e79cebb9c"
      },
      "execution_count": null,
      "outputs": [
        {
          "output_type": "stream",
          "name": "stdout",
          "text": [
            "0\n",
            "7\n"
          ]
        }
      ]
    },
    {
      "cell_type": "code",
      "source": [
        "# Vector\n",
        "vector = torch.tensor([2,3])\n",
        "vector"
      ],
      "metadata": {
        "colab": {
          "base_uri": "https://localhost:8080/"
        },
        "id": "HfzJpQuthRnb",
        "outputId": "e7b983ee-b423-4717-b2aa-962b12f4e1a4"
      },
      "execution_count": null,
      "outputs": [
        {
          "output_type": "execute_result",
          "data": {
            "text/plain": [
              "tensor([2, 3])"
            ]
          },
          "metadata": {},
          "execution_count": 31
        }
      ]
    },
    {
      "cell_type": "code",
      "source": [
        "# How many dimension ?\n",
        "print(vector.ndim)\n",
        "\n",
        "print(vector.shape)"
      ],
      "metadata": {
        "colab": {
          "base_uri": "https://localhost:8080/"
        },
        "id": "ImK28eO4hXSA",
        "outputId": "5f010a12-c2dc-423d-d324-5c2545f23d22"
      },
      "execution_count": null,
      "outputs": [
        {
          "output_type": "stream",
          "name": "stdout",
          "text": [
            "1\n",
            "torch.Size([2])\n"
          ]
        }
      ]
    },
    {
      "cell_type": "code",
      "source": [
        "# MATRIX\n",
        "\n",
        "matrix = torch.tensor([[7,9],\n",
        "                      [1,3]])\n",
        "\n",
        "matrix"
      ],
      "metadata": {
        "colab": {
          "base_uri": "https://localhost:8080/"
        },
        "id": "AfQQ04sPhtEv",
        "outputId": "b3bcf987-2eac-4b03-fc6b-41b79b52b5e9"
      },
      "execution_count": null,
      "outputs": [
        {
          "output_type": "execute_result",
          "data": {
            "text/plain": [
              "tensor([[7, 9],\n",
              "        [1, 3]])"
            ]
          },
          "metadata": {},
          "execution_count": 33
        }
      ]
    },
    {
      "cell_type": "code",
      "source": [
        "print(matrix.ndim)\n",
        "print(matrix.shape)\n",
        "print(matrix.size())"
      ],
      "metadata": {
        "colab": {
          "base_uri": "https://localhost:8080/"
        },
        "id": "VkCrsx15h4k8",
        "outputId": "4902df1f-7f0e-4918-faf4-26393219e6f7"
      },
      "execution_count": null,
      "outputs": [
        {
          "output_type": "stream",
          "name": "stdout",
          "text": [
            "2\n",
            "torch.Size([2, 2])\n",
            "torch.Size([2, 2])\n"
          ]
        }
      ]
    },
    {
      "cell_type": "code",
      "source": [
        "# Tensor\n",
        "\n",
        "tensor = torch.tensor([[[1,2,3], [12,3,3], [12,312,123]]])\n",
        "tensor"
      ],
      "metadata": {
        "colab": {
          "base_uri": "https://localhost:8080/"
        },
        "id": "bLYVna0iiD7C",
        "outputId": "34da71f4-30da-4380-a425-582c586cec78"
      },
      "execution_count": null,
      "outputs": [
        {
          "output_type": "execute_result",
          "data": {
            "text/plain": [
              "tensor([[[  1,   2,   3],\n",
              "         [ 12,   3,   3],\n",
              "         [ 12, 312, 123]]])"
            ]
          },
          "metadata": {},
          "execution_count": 35
        }
      ]
    },
    {
      "cell_type": "code",
      "source": [
        "print(tensor.ndim)\n",
        "print(tensor.shape)\n",
        "print(tensor.size())"
      ],
      "metadata": {
        "colab": {
          "base_uri": "https://localhost:8080/"
        },
        "id": "MKPZy05_ic2C",
        "outputId": "733dccf6-1d94-4466-f843-73118bd29c22"
      },
      "execution_count": null,
      "outputs": [
        {
          "output_type": "stream",
          "name": "stdout",
          "text": [
            "3\n",
            "torch.Size([1, 3, 3])\n",
            "torch.Size([1, 3, 3])\n"
          ]
        }
      ]
    },
    {
      "cell_type": "code",
      "source": [
        "tensor[0][0]"
      ],
      "metadata": {
        "colab": {
          "base_uri": "https://localhost:8080/"
        },
        "id": "o4Ggakfnit1X",
        "outputId": "9f2869b5-085b-4d5f-d8e1-077817eab957"
      },
      "execution_count": null,
      "outputs": [
        {
          "output_type": "execute_result",
          "data": {
            "text/plain": [
              "tensor([1, 2, 3])"
            ]
          },
          "metadata": {},
          "execution_count": 37
        }
      ]
    },
    {
      "cell_type": "markdown",
      "source": [
        "# Random Tensors\n",
        "\n",
        "Random tensors are important because the way many neural networks learn is that they start with tensors full of random numbers and then adjust those random numbers to better represent the data"
      ],
      "metadata": {
        "id": "0uWQ3SLPA1ss"
      }
    },
    {
      "cell_type": "code",
      "source": [
        "# Create a random tensors of size (3, 4)\n",
        "random_tensor = torch.rand(3,  4)\n",
        "random_tensor"
      ],
      "metadata": {
        "colab": {
          "base_uri": "https://localhost:8080/"
        },
        "id": "b9UwUfSiBIsA",
        "outputId": "90424a1c-e208-41df-9152-322b92a75125"
      },
      "execution_count": null,
      "outputs": [
        {
          "output_type": "execute_result",
          "data": {
            "text/plain": [
              "tensor([[0.6549, 0.0480, 0.2470, 0.8077],\n",
              "        [0.8020, 0.6767, 0.8818, 0.5678],\n",
              "        [0.2888, 0.2525, 0.9477, 0.8353]])"
            ]
          },
          "metadata": {},
          "execution_count": 38
        }
      ]
    },
    {
      "cell_type": "code",
      "source": [
        "random_tensor2 = torch.rand(3, 4, 3)\n",
        "random_tensor2"
      ],
      "metadata": {
        "colab": {
          "base_uri": "https://localhost:8080/"
        },
        "id": "LOzVjvyvBqCE",
        "outputId": "69e439b9-f273-4f57-9f21-cc383f7335ad"
      },
      "execution_count": null,
      "outputs": [
        {
          "output_type": "execute_result",
          "data": {
            "text/plain": [
              "tensor([[[0.0235, 0.7063, 0.5276],\n",
              "         [0.0388, 0.5884, 0.2356],\n",
              "         [0.4245, 0.5925, 0.2651],\n",
              "         [0.9780, 0.5862, 0.1854]],\n",
              "\n",
              "        [[0.2876, 0.9711, 0.1377],\n",
              "         [0.3181, 0.4707, 0.1626],\n",
              "         [0.8116, 0.4084, 0.4078],\n",
              "         [0.7050, 0.1870, 0.5734]],\n",
              "\n",
              "        [[0.0750, 0.6249, 0.6401],\n",
              "         [0.0912, 0.2959, 0.0288],\n",
              "         [0.9477, 0.4687, 0.0124],\n",
              "         [0.3924, 0.7171, 0.9533]]])"
            ]
          },
          "metadata": {},
          "execution_count": 39
        }
      ]
    },
    {
      "cell_type": "code",
      "source": [
        "random_image_size_tensor = torch.rand(224, 224, 3)\n",
        "random_image_size_tensor.shape, random_image_size_tensor.ndim"
      ],
      "metadata": {
        "colab": {
          "base_uri": "https://localhost:8080/"
        },
        "id": "kqttLenyCbJ6",
        "outputId": "45742325-4701-44e7-84b4-69fd167bd515"
      },
      "execution_count": null,
      "outputs": [
        {
          "output_type": "execute_result",
          "data": {
            "text/plain": [
              "(torch.Size([224, 224, 3]), 3)"
            ]
          },
          "metadata": {},
          "execution_count": 40
        }
      ]
    },
    {
      "cell_type": "code",
      "source": [
        "# Create a tensor of all zeros\n",
        "zeros = torch.zeros(size=(3,4))\n",
        "zeros"
      ],
      "metadata": {
        "colab": {
          "base_uri": "https://localhost:8080/"
        },
        "id": "Ict8yudkD94h",
        "outputId": "46800a08-5763-419a-fb23-5e7311ca3724"
      },
      "execution_count": null,
      "outputs": [
        {
          "output_type": "execute_result",
          "data": {
            "text/plain": [
              "tensor([[0., 0., 0., 0.],\n",
              "        [0., 0., 0., 0.],\n",
              "        [0., 0., 0., 0.]])"
            ]
          },
          "metadata": {},
          "execution_count": 41
        }
      ]
    },
    {
      "cell_type": "code",
      "source": [
        "# Create a tensor of all ones\n",
        "\n",
        "ones = torch.ones(size=(3,4))\n",
        "ones"
      ],
      "metadata": {
        "colab": {
          "base_uri": "https://localhost:8080/"
        },
        "id": "pwMvjO-vEhTb",
        "outputId": "a3313935-197e-4bd4-ff25-1fd83b95a431"
      },
      "execution_count": null,
      "outputs": [
        {
          "output_type": "execute_result",
          "data": {
            "text/plain": [
              "tensor([[1., 1., 1., 1.],\n",
              "        [1., 1., 1., 1.],\n",
              "        [1., 1., 1., 1.]])"
            ]
          },
          "metadata": {},
          "execution_count": 42
        }
      ]
    },
    {
      "cell_type": "code",
      "source": [
        "ones.dtype\n",
        "zeros.dtype"
      ],
      "metadata": {
        "colab": {
          "base_uri": "https://localhost:8080/"
        },
        "id": "NOnfyb8VEqTh",
        "outputId": "e21ef43d-7a33-4727-f636-94729801162a"
      },
      "execution_count": null,
      "outputs": [
        {
          "output_type": "execute_result",
          "data": {
            "text/plain": [
              "torch.float32"
            ]
          },
          "metadata": {},
          "execution_count": 43
        }
      ]
    },
    {
      "cell_type": "code",
      "source": [
        "### Creating a range of tensors and tensors-like\n",
        "\n",
        "# Use torch.range()\n",
        "one_to_ten = torch.arange(start=1, end=11, step=1)\n",
        "print(one_to_ten)"
      ],
      "metadata": {
        "colab": {
          "base_uri": "https://localhost:8080/"
        },
        "id": "S85lbW46HxD6",
        "outputId": "3fa36762-bc98-4d69-cfde-6ce296210dc9"
      },
      "execution_count": null,
      "outputs": [
        {
          "output_type": "stream",
          "name": "stdout",
          "text": [
            "tensor([ 1,  2,  3,  4,  5,  6,  7,  8,  9, 10])\n"
          ]
        }
      ]
    },
    {
      "cell_type": "code",
      "source": [
        "zero_to_thousand = torch.arange(start=0, end=1001, step=100)\n",
        "zero_to_thousand"
      ],
      "metadata": {
        "colab": {
          "base_uri": "https://localhost:8080/"
        },
        "id": "cI9zHtiiIPbZ",
        "outputId": "d284add9-06f5-4db4-fd70-1d87456ea8a1"
      },
      "execution_count": null,
      "outputs": [
        {
          "output_type": "execute_result",
          "data": {
            "text/plain": [
              "tensor([   0,  100,  200,  300,  400,  500,  600,  700,  800,  900, 1000])"
            ]
          },
          "metadata": {},
          "execution_count": 45
        }
      ]
    },
    {
      "cell_type": "code",
      "source": [
        "# Creating tensors like\n",
        "ten_zeros = torch.zeros_like(input=one_to_ten)\n",
        "ten_zeros"
      ],
      "metadata": {
        "colab": {
          "base_uri": "https://localhost:8080/"
        },
        "id": "rzfMOXodIZsw",
        "outputId": "6489b806-ca53-4d8c-e809-abffe47dcc66"
      },
      "execution_count": null,
      "outputs": [
        {
          "output_type": "execute_result",
          "data": {
            "text/plain": [
              "tensor([0, 0, 0, 0, 0, 0, 0, 0, 0, 0])"
            ]
          },
          "metadata": {},
          "execution_count": 46
        }
      ]
    },
    {
      "cell_type": "markdown",
      "source": [
        "# Note:\n",
        "      Tensor datatypes is one of the 3 big errors you'll run into with PyTorch\n",
        "      \n",
        "      1. Tensors not right datatype\n",
        "      2. Tensors not right shape\n",
        "      3. Tensors not on the right device\n",
        "      "
      ],
      "metadata": {
        "id": "OBRQD6dHuuit"
      }
    },
    {
      "cell_type": "code",
      "source": [
        "# Tensor datatypes\n",
        "float_32_tensor = torch.tensor([3.,6. ,9.], dtype = None)\n",
        "float_32_tensor.dtype"
      ],
      "metadata": {
        "colab": {
          "base_uri": "https://localhost:8080/"
        },
        "id": "sJlBNARYs64N",
        "outputId": "2be52828-f40a-4cf2-fce7-8353e344932f"
      },
      "execution_count": null,
      "outputs": [
        {
          "output_type": "execute_result",
          "data": {
            "text/plain": [
              "torch.float32"
            ]
          },
          "metadata": {},
          "execution_count": 47
        }
      ]
    },
    {
      "cell_type": "code",
      "source": [
        "float_16_tensor = torch.tensor([3.,6. ,9.], dtype = torch.float16)\n",
        "float_16_tensor.dtype"
      ],
      "metadata": {
        "colab": {
          "base_uri": "https://localhost:8080/"
        },
        "id": "tI9Vi9Zatk-Q",
        "outputId": "120b822d-4228-4246-9c3c-12a9ce388303"
      },
      "execution_count": null,
      "outputs": [
        {
          "output_type": "execute_result",
          "data": {
            "text/plain": [
              "torch.float16"
            ]
          },
          "metadata": {},
          "execution_count": 48
        }
      ]
    },
    {
      "cell_type": "code",
      "source": [
        "float_16_tensor = torch.tensor([3.,6. ,9.], dtype = torch.float16)\n",
        "float_16_tensor.dtype"
      ],
      "metadata": {
        "id": "3Q3NqYhTtsu6",
        "colab": {
          "base_uri": "https://localhost:8080/"
        },
        "outputId": "81f53257-8d02-4c16-9a4f-f19c66d71ddb"
      },
      "execution_count": null,
      "outputs": [
        {
          "output_type": "execute_result",
          "data": {
            "text/plain": [
              "torch.float16"
            ]
          },
          "metadata": {},
          "execution_count": 49
        }
      ]
    },
    {
      "cell_type": "code",
      "source": [
        "float_16_tensor = torch.tensor([3.,6. ,9.],\n",
        "                               dtype = torch.float16, # what datatype is the tensor\n",
        "                               device = None, # What device is your tensor on\n",
        "                               requires_grad=False # Whether or not to track gradients with this tensors operations\n",
        "                               )\n",
        "float_16_tensor.dtype"
      ],
      "metadata": {
        "id": "timxcMJit0JJ",
        "colab": {
          "base_uri": "https://localhost:8080/"
        },
        "outputId": "b00b02ac-069d-4bde-912e-687133d3e3da"
      },
      "execution_count": null,
      "outputs": [
        {
          "output_type": "execute_result",
          "data": {
            "text/plain": [
              "torch.float16"
            ]
          },
          "metadata": {},
          "execution_count": 50
        }
      ]
    },
    {
      "cell_type": "code",
      "source": [
        "float_16_tensor = float_32_tensor.type(torch.float16)\n",
        "float_16_tensor.dtype"
      ],
      "metadata": {
        "colab": {
          "base_uri": "https://localhost:8080/"
        },
        "id": "igur1c2vvq-G",
        "outputId": "450921ac-ad70-4a88-84a7-ef52eaf81c66"
      },
      "execution_count": null,
      "outputs": [
        {
          "output_type": "execute_result",
          "data": {
            "text/plain": [
              "torch.float16"
            ]
          },
          "metadata": {},
          "execution_count": 51
        }
      ]
    },
    {
      "cell_type": "code",
      "source": [
        "int_32_tensor = torch.tensor([1,2,3], dtype = torch.int32)\n",
        "int_32_tensor.dtype"
      ],
      "metadata": {
        "colab": {
          "base_uri": "https://localhost:8080/"
        },
        "id": "mrYDqeeYv2om",
        "outputId": "adebdcc4-c25a-4d0b-f984-a14139ca5c97"
      },
      "execution_count": null,
      "outputs": [
        {
          "output_type": "execute_result",
          "data": {
            "text/plain": [
              "torch.int32"
            ]
          },
          "metadata": {},
          "execution_count": 52
        }
      ]
    },
    {
      "cell_type": "markdown",
      "source": [
        "# Note\n",
        "\n",
        "1. Tensors not right datatype - to do get datatype from a tensor, can use tensor.dtype\n",
        "\n",
        "2. Tensors not right shape -to get shape from a tensor, can use tensor.shape\n",
        "\n",
        "3. Tensors not on the right device - to get device from a tensor, can use tensor.device"
      ],
      "metadata": {
        "id": "sU2hKwDKwOCm"
      }
    },
    {
      "cell_type": "markdown",
      "source": [
        "# Manipulatinh Tensors (tensor operations)\n",
        "\n",
        "* Addition\n",
        "* Subtraction\n",
        "* Multiplication (element-wise)\n",
        "* Division\n",
        "* Matrix multiplication"
      ],
      "metadata": {
        "id": "cpi0rTHbwtTm"
      }
    },
    {
      "cell_type": "code",
      "source": [
        "# Addition\n",
        "tensor = torch.tensor([1,2,3])\n",
        "tensor + 20"
      ],
      "metadata": {
        "colab": {
          "base_uri": "https://localhost:8080/"
        },
        "id": "vXkY3CSYw_bg",
        "outputId": "cf57f2b9-cda1-4757-e370-b4c37f009a19"
      },
      "execution_count": null,
      "outputs": [
        {
          "output_type": "execute_result",
          "data": {
            "text/plain": [
              "tensor([21, 22, 23])"
            ]
          },
          "metadata": {},
          "execution_count": 53
        }
      ]
    },
    {
      "cell_type": "code",
      "source": [
        "# Subtraction\n",
        "tensor - 20"
      ],
      "metadata": {
        "colab": {
          "base_uri": "https://localhost:8080/"
        },
        "id": "bc0MMqyOxKhN",
        "outputId": "135197d2-e8ba-410c-dedd-5479a4bf340d"
      },
      "execution_count": null,
      "outputs": [
        {
          "output_type": "execute_result",
          "data": {
            "text/plain": [
              "tensor([-19, -18, -17])"
            ]
          },
          "metadata": {},
          "execution_count": 54
        }
      ]
    },
    {
      "cell_type": "code",
      "source": [
        "# Division\n",
        "tensor / 13"
      ],
      "metadata": {
        "colab": {
          "base_uri": "https://localhost:8080/"
        },
        "id": "oQHyWxLfxnVh",
        "outputId": "775148f0-8a68-433d-981f-1d93bcf8046f"
      },
      "execution_count": null,
      "outputs": [
        {
          "output_type": "execute_result",
          "data": {
            "text/plain": [
              "tensor([0.0769, 0.1538, 0.2308])"
            ]
          },
          "metadata": {},
          "execution_count": 55
        }
      ]
    },
    {
      "cell_type": "markdown",
      "source": [
        "# Matrix multiplication\n",
        "\n",
        "1. Element-wise multiplication\n",
        "2. Matrix multiplication (dot product)\n",
        "\n",
        "There are two main rules that performing matrix mutliplication need to satisfy:\n",
        "  1. The inner dimension must match :\n",
        "      * (3, 2) @ (3, 2) won't work\n",
        "      * (2, 3) @ (3, 2) will work\n",
        "      * (3, 2) @ (2, 3) will work\n",
        "\n",
        "  2. The resulting matrix has the shape of the outer dimensions :\n",
        "      * (2, 3) @ (3, 2) -> (2, 2)\n",
        "      * (3, 2) @ (2, 3) -> (3, 3)"
      ],
      "metadata": {
        "id": "HwjIFw3Wx5D9"
      }
    },
    {
      "cell_type": "code",
      "source": [
        "# Element wise multiplication\n",
        "print(tensor, \"*\", tensor)\n",
        "print(f\"Equals: {tensor * tensor}\")"
      ],
      "metadata": {
        "colab": {
          "base_uri": "https://localhost:8080/"
        },
        "id": "--qX4oRxyAeS",
        "outputId": "7087fda6-5d60-4692-bcb9-19edd5557a77"
      },
      "execution_count": null,
      "outputs": [
        {
          "output_type": "stream",
          "name": "stdout",
          "text": [
            "tensor([1, 2, 3]) * tensor([1, 2, 3])\n",
            "Equals: tensor([1, 4, 9])\n"
          ]
        }
      ]
    },
    {
      "cell_type": "code",
      "source": [
        "# Matrix Multiplication\n",
        "torch.matmul(tensor, tensor)"
      ],
      "metadata": {
        "colab": {
          "base_uri": "https://localhost:8080/"
        },
        "id": "8PUIBQh1yOS-",
        "outputId": "e50494db-6014-4905-ae93-4807505ff4fb"
      },
      "execution_count": null,
      "outputs": [
        {
          "output_type": "execute_result",
          "data": {
            "text/plain": [
              "tensor(14)"
            ]
          },
          "metadata": {},
          "execution_count": 57
        }
      ]
    },
    {
      "cell_type": "markdown",
      "source": [
        "# One of the most common errors in deep learning : shape errors"
      ],
      "metadata": {
        "id": "QS-8p6tCR82X"
      }
    },
    {
      "cell_type": "code",
      "source": [
        "# Shapes for matrix multiplication\n",
        "tensor_A = torch.tensor([[1, 2],\n",
        "                          [3, 4],\n",
        "                         [5, 6]])\n",
        "\n",
        "tensor_B  = torch.tensor ([[7, 10],\n",
        "                           [8, 11],\n",
        "                           [9, 12]])\n",
        "\n",
        "torch.mm(tensor_A, tensor_B) # torch.mm is the same as torch.matmul"
      ],
      "metadata": {
        "colab": {
          "base_uri": "https://localhost:8080/",
          "height": 183
        },
        "id": "RzqfCvkFysNC",
        "outputId": "29ec351b-9b67-4c13-8068-29e137fef90e"
      },
      "execution_count": null,
      "outputs": [
        {
          "output_type": "error",
          "ename": "RuntimeError",
          "evalue": "mat1 and mat2 shapes cannot be multiplied (3x2 and 3x2)",
          "traceback": [
            "\u001b[0;31m---------------------------------------------------------------------------\u001b[0m",
            "\u001b[0;31mRuntimeError\u001b[0m                              Traceback (most recent call last)",
            "\u001b[0;32m<ipython-input-58-8019d62f8670>\u001b[0m in \u001b[0;36m<cell line: 10>\u001b[0;34m()\u001b[0m\n\u001b[1;32m      8\u001b[0m                            [9, 12]])\n\u001b[1;32m      9\u001b[0m \u001b[0;34m\u001b[0m\u001b[0m\n\u001b[0;32m---> 10\u001b[0;31m \u001b[0mtorch\u001b[0m\u001b[0;34m.\u001b[0m\u001b[0mmm\u001b[0m\u001b[0;34m(\u001b[0m\u001b[0mtensor_A\u001b[0m\u001b[0;34m,\u001b[0m \u001b[0mtensor_B\u001b[0m\u001b[0;34m)\u001b[0m \u001b[0;31m# torch.mm is the same as torch.matmul\u001b[0m\u001b[0;34m\u001b[0m\u001b[0;34m\u001b[0m\u001b[0m\n\u001b[0m",
            "\u001b[0;31mRuntimeError\u001b[0m: mat1 and mat2 shapes cannot be multiplied (3x2 and 3x2)"
          ]
        }
      ]
    },
    {
      "cell_type": "code",
      "source": [
        "tensor_A.shape, tensor_B.shape"
      ],
      "metadata": {
        "colab": {
          "base_uri": "https://localhost:8080/"
        },
        "id": "gQ0hIfDjTwhI",
        "outputId": "bbaff6ad-5816-47aa-dd30-0a9a73027e01"
      },
      "execution_count": null,
      "outputs": [
        {
          "output_type": "execute_result",
          "data": {
            "text/plain": [
              "(torch.Size([3, 2]), torch.Size([3, 2]))"
            ]
          },
          "metadata": {},
          "execution_count": 59
        }
      ]
    },
    {
      "cell_type": "markdown",
      "source": [
        "To fix our tensor shape errors, we can manipulate the shape of one of our tensors using a transpose\n",
        "A transpose switches the axes or dimensions of a given tensor"
      ],
      "metadata": {
        "id": "dzZRek16U6Vm"
      }
    },
    {
      "cell_type": "code",
      "source": [
        "tensor_B, tensor_B.shape"
      ],
      "metadata": {
        "colab": {
          "base_uri": "https://localhost:8080/"
        },
        "id": "v7IBi5XmU4OR",
        "outputId": "3cb93640-d666-4cf1-8813-a7566753fed8"
      },
      "execution_count": null,
      "outputs": [
        {
          "output_type": "execute_result",
          "data": {
            "text/plain": [
              "(tensor([[ 7, 10],\n",
              "         [ 8, 11],\n",
              "         [ 9, 12]]),\n",
              " torch.Size([3, 2]))"
            ]
          },
          "metadata": {},
          "execution_count": 60
        }
      ]
    },
    {
      "cell_type": "code",
      "source": [
        "tensor_B.T, tensor_B.T.shape"
      ],
      "metadata": {
        "colab": {
          "base_uri": "https://localhost:8080/"
        },
        "id": "Ktwm2RIdVUOl",
        "outputId": "3f343caa-4024-4f76-919d-d425e7e0e1d4"
      },
      "execution_count": null,
      "outputs": [
        {
          "output_type": "execute_result",
          "data": {
            "text/plain": [
              "(tensor([[ 7,  8,  9],\n",
              "         [10, 11, 12]]),\n",
              " torch.Size([2, 3]))"
            ]
          },
          "metadata": {},
          "execution_count": 62
        }
      ]
    },
    {
      "cell_type": "code",
      "source": [
        "# The matrix multiplication operation works when tensor_B is transposed\n",
        "print(f\"Original shapes: tensor_A = {tensor_A.shape} , tensor_B = {tensor_B.shape}\")\n",
        "print(f\"New shapes: tensor_A = {tensor_A.shape}, tensor_B.T = {tensor_B.T.shape}\")\n",
        "print(f\"Multiplying : {torch.mm(tensor_A, tensor_B.T)} <- inner dimensions must match\")\n",
        "print(\"Output:\\n\")\n",
        "output = torch.mm(tensor_A, tensor_B.T)\n",
        "print(output)\n",
        "print(f\"\\nOutput shape: {output.shape}\")"
      ],
      "metadata": {
        "id": "ktvZuFNRVYCF"
      },
      "execution_count": null,
      "outputs": []
    },
    {
      "cell_type": "markdown",
      "source": [
        "# Finding the min, max, sum, etc(tensor aggregation)"
      ],
      "metadata": {
        "id": "lo91nfuyYE8r"
      }
    },
    {
      "cell_type": "code",
      "source": [
        "n = torch.arange(0, 101, 10)\n",
        "n"
      ],
      "metadata": {
        "id": "0WWnPYd7YJ8y"
      },
      "execution_count": null,
      "outputs": []
    },
    {
      "cell_type": "code",
      "source": [
        "# min\n",
        "torch.min(n), n.min()"
      ],
      "metadata": {
        "id": "d24XkSAdYQhM"
      },
      "execution_count": null,
      "outputs": []
    },
    {
      "cell_type": "code",
      "source": [
        "# max\n",
        "torch.max(n), n.max()"
      ],
      "metadata": {
        "id": "P5g2OUysYWCR"
      },
      "execution_count": null,
      "outputs": []
    },
    {
      "cell_type": "code",
      "source": [
        "# mean\n",
        "torch.mean(n.type(torch.float32)), n.type(torch.float32).mean()"
      ],
      "metadata": {
        "id": "kZczNArdYncU"
      },
      "execution_count": null,
      "outputs": []
    },
    {
      "cell_type": "code",
      "source": [
        "# sum\n",
        "torch.sum(n), n.sum()"
      ],
      "metadata": {
        "id": "a38kMwLdZzI7"
      },
      "execution_count": null,
      "outputs": []
    },
    {
      "cell_type": "code",
      "source": [
        "# Find the position in tensor that has the minimum value with argmin()\n",
        "torch.argmin(n), n.argmin()"
      ],
      "metadata": {
        "id": "-W5qDHa5Z87Q"
      },
      "execution_count": null,
      "outputs": []
    },
    {
      "cell_type": "code",
      "source": [
        "# Find the position in tensor that  has the maximum value with argmax()\n",
        "torch.argmax(n), n.argmax()"
      ],
      "metadata": {
        "id": "bMcXlorGaIqu"
      },
      "execution_count": null,
      "outputs": []
    },
    {
      "cell_type": "markdown",
      "source": [
        "## Reshaping, stacking, squeezing and unsqueezing tensors\n",
        "\n",
        "* Reshaping - reshapes an input tensor to a defined shape\n",
        "\n",
        "* View - Return a view of an input tensor of certain shape but keep the same memory as the original tensor\n",
        "\n",
        "* Stacking - combine multiple tensors on top of each other (vstack)\n",
        "\n",
        "* Squeeze - remove all \"1\" dimensions from a tensor\n",
        "\n",
        "* Unsqueeze - add a \"1\" dimension to a target tensor\n",
        "\n",
        "* Permute - Return a view of the input with dimensions permuted (swapped) in a certain way"
      ],
      "metadata": {
        "id": "hCc7nfywPfTY"
      }
    },
    {
      "cell_type": "code",
      "source": [
        "import torch\n",
        "\n",
        "y = torch.arange(1. , 10.)\n",
        "y, y.shape"
      ],
      "metadata": {
        "id": "F1dt_ZIpWAPE"
      },
      "execution_count": null,
      "outputs": []
    },
    {
      "cell_type": "code",
      "source": [
        "y_reshaped = y.reshape(3, 3)\n",
        "y_reshaped, y_reshaped.shape"
      ],
      "metadata": {
        "id": "AHR2q1YgWUZ4"
      },
      "execution_count": null,
      "outputs": []
    },
    {
      "cell_type": "markdown",
      "source": [
        "x.view, orijinal Tensor'un bellekteki yapısını değiştirmeden farklı bir şekle bürünmesini sağlar. Bu fonksiyon, yalnızca orijinal Tensor'ün bellekte ardışık (contiguous) bir şekilde düzenlenmiş olması durumunda çalışır. Eğer Tensor ardışık değilse, view fonksiyonu bir hata verir.\n",
        "\n",
        "x.reshape, Tensor'u yeniden şekillendirmek için daha esnek bir fonksiyondur. Eğer gerekirse, Tensor'u ardışık hale getirmek için bellekte yeni bir kopya oluşturur. Bu nedenle, x.reshape genellikle x.view'a göre daha esnektir, çünkü ardışık olmayan Tensor'lar için de çalışabilir.\n",
        "\n"
      ],
      "metadata": {
        "id": "AZOjHCdLXDmN"
      }
    },
    {
      "cell_type": "code",
      "source": [
        "# Change the view\n",
        "z = y.view(1, 9)\n",
        "z, z.shape"
      ],
      "metadata": {
        "id": "IOPqe0I2Wk6a"
      },
      "execution_count": null,
      "outputs": []
    },
    {
      "cell_type": "code",
      "source": [
        "# z'deki değişiklik neden y'yi etkiliyorun cevabı ardışık olduğu için aynı yerde tutulur x ile.\n",
        "z[:, 1] = 12\n",
        "z, y"
      ],
      "metadata": {
        "id": "QAoF4EL9Xddv"
      },
      "execution_count": null,
      "outputs": []
    },
    {
      "cell_type": "code",
      "source": [
        "# stack horizotal\n",
        "x_stacked_h = torch.stack([y, y, y, y], dim=0) # or torch.hstack(....)\n",
        "x_stacked_h, x_stacked_h.shape"
      ],
      "metadata": {
        "id": "k0H2-djFXwro"
      },
      "execution_count": null,
      "outputs": []
    },
    {
      "cell_type": "code",
      "source": [
        "# stack vertical\n",
        "x_stacked_v = torch.stack([y, y, y, y], dim = 1)\n",
        "x_stacked_v, x_stacked_v.shape"
      ],
      "metadata": {
        "id": "vFgxeCNCYNep"
      },
      "execution_count": null,
      "outputs": []
    },
    {
      "cell_type": "code",
      "source": [
        "# torch.squeeze() - removes all single dimensions from a target tensor\n",
        "x_reshaped = y.reshape(9, 1)\n",
        "\n",
        "print(f\"Previous tensor: {x_reshaped}\")\n",
        "print(f\"Previous shape: {x_reshaped.shape}\")\n",
        "\n",
        "# Remove extra dimensions from x_reshaped\n",
        "x_squeezed = x_reshaped.squeeze()\n",
        "print(f\"\\nNew tensor: {x_squeezed}\")\n",
        "print(f\"New shape: {x_squeezed.shape}\")"
      ],
      "metadata": {
        "id": "vTpygj2wZmnh"
      },
      "execution_count": null,
      "outputs": []
    },
    {
      "cell_type": "code",
      "source": [
        "# Add an extra dimension with unsqueeze\n",
        "\n",
        "y_unsqueezed = y.unsqueeze(dim = 0)\n",
        "print(f\"\\nNew tensor: {y_unsqueezed}\")\n",
        "print(f\"New shape: {y_unsqueezed.shape}\")"
      ],
      "metadata": {
        "id": "SIzRdDIPbW-2"
      },
      "execution_count": null,
      "outputs": []
    },
    {
      "cell_type": "code",
      "source": [
        "# permute\n",
        "a = torch.rand(size=(224, 224, 3))\n",
        "\n",
        "a_permuted = a.permute(2, 0, 1)\n",
        "a.shape, a_permuted.shape"
      ],
      "metadata": {
        "id": "RF8N3le4Yxyh"
      },
      "execution_count": null,
      "outputs": []
    },
    {
      "cell_type": "markdown",
      "source": [
        "# Indexing (selectin data from tensors)"
      ],
      "metadata": {
        "id": "ePgGbxW4YDm6"
      }
    },
    {
      "cell_type": "code",
      "source": [
        "x = torch.arange(1, 10).reshape(1, 3, 3)\n",
        "x, x.shape"
      ],
      "metadata": {
        "id": "Laz21IIZb3uV"
      },
      "execution_count": null,
      "outputs": []
    },
    {
      "cell_type": "code",
      "source": [
        "print(f\"First square bracket:\\n{x[0]}\")\n",
        "print(f\"Second square bracket: {x[0][0]}\")\n",
        "print(f\"Third square bracket: {x[0][0][0]}\")"
      ],
      "metadata": {
        "id": "bWUpbF4w5Cgn"
      },
      "execution_count": null,
      "outputs": []
    },
    {
      "cell_type": "code",
      "source": [
        "x[:, 0]"
      ],
      "metadata": {
        "id": "Xkx0anHD58Qv"
      },
      "execution_count": null,
      "outputs": []
    },
    {
      "cell_type": "code",
      "source": [
        "x[:, :, 0]"
      ],
      "metadata": {
        "id": "3CxjZz9o5fZC"
      },
      "execution_count": null,
      "outputs": []
    },
    {
      "cell_type": "markdown",
      "source": [
        "# Pytorch tensors & NumPy\n",
        "\n",
        " * torch.from_numpy(ndarray) - NumPy array -> Pytorch tensor\n",
        "\n",
        " * torch.Tensor.numpy() - PyTorch tensor -> NumPy array\n"
      ],
      "metadata": {
        "id": "MOf2p3K-6FFF"
      }
    },
    {
      "cell_type": "code",
      "source": [
        "import torch\n",
        "import numpy as np\n",
        "\n",
        "array = np.arange(1.0, 8.0)\n",
        "tensor = torch.from_numpy(array)\n",
        "array, tensor"
      ],
      "metadata": {
        "colab": {
          "base_uri": "https://localhost:8080/"
        },
        "id": "VpINo9EM6hmF",
        "outputId": "b4dc79fe-4c6b-42df-d8b4-52dced8599fd"
      },
      "execution_count": null,
      "outputs": [
        {
          "output_type": "execute_result",
          "data": {
            "text/plain": [
              "(array([1., 2., 3., 4., 5., 6., 7.]),\n",
              " tensor([1., 2., 3., 4., 5., 6., 7.], dtype=torch.float64))"
            ]
          },
          "metadata": {},
          "execution_count": 63
        }
      ]
    },
    {
      "cell_type": "markdown",
      "source": [
        "* Note: By default, NumPy arrays are created with the datatype float64 and if you convert it to a PyTorch tensor, it'll keep the same datatype(as above).\n",
        "\n",
        "However, many PyTorch calculations default to using (float32).\n",
        "\n",
        "So if you want to convert your NumPy array (float64)  -> PyTorch tensor (float64) -> Pt"
      ],
      "metadata": {
        "id": "pf8Q1XUo7QAe"
      }
    },
    {
      "cell_type": "code",
      "source": [
        "# array ve ondan türetilmiş tensor farklı belleklerde depolandığından kaynaklı arrayde ki değişim tensoru\n",
        "array = array + 1\n",
        "array, tensor"
      ],
      "metadata": {
        "id": "NA6RkVdj5-Im",
        "colab": {
          "base_uri": "https://localhost:8080/"
        },
        "outputId": "3e68eec0-ed37-40b9-89ae-b888fccbe22c"
      },
      "execution_count": null,
      "outputs": [
        {
          "output_type": "execute_result",
          "data": {
            "text/plain": [
              "(array([2., 3., 4., 5., 6., 7., 8.]),\n",
              " tensor([1., 2., 3., 4., 5., 6., 7.], dtype=torch.float64))"
            ]
          },
          "metadata": {},
          "execution_count": 64
        }
      ]
    },
    {
      "cell_type": "markdown",
      "source": [
        "# Reproducibility"
      ],
      "metadata": {
        "id": "CJ8vOrfD6xKh"
      }
    },
    {
      "cell_type": "code",
      "source": [
        "# Yeniden üretilebilirlik yok\n",
        "import torch\n",
        "\n",
        "random_tensor_A = torch.rand(3, 4)\n",
        "random_tensor_B = torch.rand(3, 4)\n",
        "\n",
        "print(f\"Tensor A:\\n{random_tensor_A}\\n\")\n",
        "print(f\"Tensor B:\\n{random_tensor_B}\\n\")\n",
        "print(f\"Does Tensor A equal Tensor B? (anywhere)\")\n",
        "random_tensor_A == random_tensor_B"
      ],
      "metadata": {
        "colab": {
          "base_uri": "https://localhost:8080/"
        },
        "id": "st0QBa4E6GnG",
        "outputId": "e61e2eb2-a548-488f-f65c-3de50e934605"
      },
      "execution_count": null,
      "outputs": [
        {
          "output_type": "stream",
          "name": "stdout",
          "text": [
            "Tensor A:\n",
            "tensor([[0.5448, 0.2635, 0.0415, 0.5270],\n",
            "        [0.0381, 0.2013, 0.3412, 0.7080],\n",
            "        [0.4298, 0.8726, 0.4569, 0.4216]])\n",
            "\n",
            "Tensor B:\n",
            "tensor([[0.2891, 0.1054, 0.3986, 0.7686],\n",
            "        [0.0560, 0.2956, 0.8782, 0.1480],\n",
            "        [0.2162, 0.3343, 0.6936, 0.5973]])\n",
            "\n",
            "Does Tensor A equal Tensor B? (anywhere)\n"
          ]
        },
        {
          "output_type": "execute_result",
          "data": {
            "text/plain": [
              "tensor([[False, False, False, False],\n",
              "        [False, False, False, False],\n",
              "        [False, False, False, False]])"
            ]
          },
          "metadata": {},
          "execution_count": 65
        }
      ]
    },
    {
      "cell_type": "code",
      "source": [
        "# Yeniden üretilebilirlik var\n",
        "\n",
        "RANDOM_SEED=42\n",
        "torch.manual_seed(seed=RANDOM_SEED)\n",
        "random_tensor_C = torch.rand(3, 4)\n",
        "\n",
        "\n",
        "torch.random.manual_seed(seed=RANDOM_SEED)\n",
        "random_tensor_D = torch.rand(3, 4)\n",
        "\n",
        "print(f\"Tensor C:\\n{random_tensor_C}\\n\")\n",
        "print(f\"Tensor D:\\n{random_tensor_D}\\n\")\n",
        "print(f\"Does Tensor C equal Tensor D? (anywhere)\")\n",
        "random_tensor_C == random_tensor_D"
      ],
      "metadata": {
        "colab": {
          "base_uri": "https://localhost:8080/"
        },
        "id": "lAel1cFM65NZ",
        "outputId": "85608a95-f750-4048-c301-d5447405db62"
      },
      "execution_count": null,
      "outputs": [
        {
          "output_type": "stream",
          "name": "stdout",
          "text": [
            "Tensor C:\n",
            "tensor([[0.8823, 0.9150, 0.3829, 0.9593],\n",
            "        [0.3904, 0.6009, 0.2566, 0.7936],\n",
            "        [0.9408, 0.1332, 0.9346, 0.5936]])\n",
            "\n",
            "Tensor D:\n",
            "tensor([[0.8823, 0.9150, 0.3829, 0.9593],\n",
            "        [0.3904, 0.6009, 0.2566, 0.7936],\n",
            "        [0.9408, 0.1332, 0.9346, 0.5936]])\n",
            "\n",
            "Does Tensor C equal Tensor D? (anywhere)\n"
          ]
        },
        {
          "output_type": "execute_result",
          "data": {
            "text/plain": [
              "tensor([[True, True, True, True],\n",
              "        [True, True, True, True],\n",
              "        [True, True, True, True]])"
            ]
          },
          "metadata": {},
          "execution_count": 66
        }
      ]
    },
    {
      "cell_type": "markdown",
      "source": [
        "# Getting PyTorch to run on the GPU"
      ],
      "metadata": {
        "id": "ji8vYgei7ei5"
      }
    },
    {
      "cell_type": "code",
      "source": [
        "import torch\n",
        "torch.cuda.is_available()"
      ],
      "metadata": {
        "colab": {
          "base_uri": "https://localhost:8080/"
        },
        "id": "ssLcrkYe7haC",
        "outputId": "ae86bbec-4543-4373-d2bf-6c9560924b67"
      },
      "execution_count": null,
      "outputs": [
        {
          "output_type": "execute_result",
          "data": {
            "text/plain": [
              "True"
            ]
          },
          "metadata": {},
          "execution_count": 1
        }
      ]
    },
    {
      "cell_type": "code",
      "source": [
        "device = \"cuda\" if torch.cuda.is_available() else \"cpu\"\n",
        "device"
      ],
      "metadata": {
        "colab": {
          "base_uri": "https://localhost:8080/",
          "height": 36
        },
        "id": "hhdHjiBD7x17",
        "outputId": "5d1f65ec-90cb-4f0c-b9cd-669b375674de"
      },
      "execution_count": null,
      "outputs": [
        {
          "output_type": "execute_result",
          "data": {
            "text/plain": [
              "'cuda'"
            ],
            "application/vnd.google.colaboratory.intrinsic+json": {
              "type": "string"
            }
          },
          "metadata": {},
          "execution_count": 2
        }
      ]
    },
    {
      "cell_type": "markdown",
      "source": [
        "# Putting tensors (and models) on the GPU"
      ],
      "metadata": {
        "id": "Pjtps3Md8epX"
      }
    },
    {
      "cell_type": "code",
      "source": [
        "device = torch.device(\"cuda\" if torch.cuda.is_available() else \"cpu\")\n",
        "tensor = torch.tensor([1,2 ,3]).to(device)\n",
        "\n",
        "print(tensor, tensor.device)"
      ],
      "metadata": {
        "colab": {
          "base_uri": "https://localhost:8080/"
        },
        "id": "S0zZ8VS28inA",
        "outputId": "08998914-2a14-4264-ff76-b504cf6bca7a"
      },
      "execution_count": null,
      "outputs": [
        {
          "output_type": "stream",
          "name": "stdout",
          "text": [
            "tensor([1, 2, 3], device='cuda:0') cuda:0\n"
          ]
        }
      ]
    }
  ]
}